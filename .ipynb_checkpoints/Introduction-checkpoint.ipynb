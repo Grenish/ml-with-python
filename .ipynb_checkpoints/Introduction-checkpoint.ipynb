{
 "cells": [
  {
   "cell_type": "markdown",
   "id": "cded1e7f-cc41-4b94-aaff-0ad0c2ab02eb",
   "metadata": {},
   "source": [
    "# House Prediction with Machine Learning"
   ]
  },
  {
   "cell_type": "markdown",
   "id": "c71764b3-7c04-475c-be9a-f1599c6ae9de",
   "metadata": {},
   "source": [
    "## What is machine learning?\n",
    "\n",
    "Machine learning (ML) is a subset of Artificial Intelligence (AI) which enables the machine to learn from the data and improve overtime without being explicitly programmed.\n",
    "\n",
    "Instead of following the predefined rules, it detecet the patterns in the database and classify them accordingly and learns from it. And uses that knowledge to make a prediction or decision about something."
   ]
  },
  {
   "cell_type": "markdown",
   "id": "32e84c70-0dc3-43e6-9f41-f40d165c4266",
   "metadata": {},
   "source": [
    "Machines can be trained in three ways.\n",
    "\n",
    "1. **Supervised Learning:** In this method the model is trained with a labbled dataset, meaning there will be inputs with correct outputs. The goal is to learn mapping the input to output. (e.g.: predicting house prices based on features like size and location.) <img src=\"images/supervised.drawio.png\"  />\n",
    "2. **Unsupervised Learning:** In this method the model is given the unlabbled dataset, unlike supervised learning the goal here is to identify the patterns or shapes or weight and classify them accordingly without any guidance. (e.g.: clustering customers based on purchasing behavior.) <img src=\"images/unsupervised.jpeg\"  />\n",
    "3. **Reinforcement Learning:** This method is different from the rest. Here the machine learns by interacting and recieving the feedback in the form of rewards or penalties. It's like a game where if you answer correct you'll get to the another level but if you fail to answer you'll loose one life. The goal here is to find a way to maximize the reward or to get to the next level. <img src=\"images/reinforcement.png\" />"
   ]
  }
 ],
 "metadata": {
  "kernelspec": {
   "display_name": "Python 3 (ipykernel)",
   "language": "python",
   "name": "python3"
  },
  "language_info": {
   "codemirror_mode": {
    "name": "ipython",
    "version": 3
   },
   "file_extension": ".py",
   "mimetype": "text/x-python",
   "name": "python",
   "nbconvert_exporter": "python",
   "pygments_lexer": "ipython3",
   "version": "3.10.8"
  }
 },
 "nbformat": 4,
 "nbformat_minor": 5
}
